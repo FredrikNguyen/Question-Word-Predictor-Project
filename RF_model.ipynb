{
 "cells": [
  {
   "cell_type": "code",
   "execution_count": null,
   "id": "463e3ba7",
   "metadata": {},
   "outputs": [],
   "source": [
    "import spacy\n",
    "from sklearn.model_selection import train_test_split\n",
    "from sklearn.ensemble import RandomForestClassifier\n",
    "from sklearn.metrics import accuracy_score, f1_score, classification_report, confusion_matrix\n",
    "from collections import Counter\n",
    "import numpy as np\n",
    "import pickle\n",
    "from matplotlib import pyplot as plt\n",
    "import seaborn as sns"
   ]
  },
  {
   "cell_type": "code",
   "execution_count": null,
   "id": "2c19c315",
   "metadata": {},
   "outputs": [],
   "source": [
    "nlp = spacy.load(\"en_core_web_sm\", disable=[\"parser\", \"ner\"])\n",
    "\n",
    "with open(\"data/train_processed.pkl\", \"rb\") as f:\n",
    "    qa_pairs = pickle.load(f)\n"
   ]
  },
  {
   "cell_type": "code",
   "execution_count": null,
   "id": "ad25394f",
   "metadata": {},
   "outputs": [],
   "source": [
    "#question words/phrases\n",
    "qw_to_idx = dict()\n",
    "for idx, qw in enumerate(set([qa[2] for qa in qa_pairs])):\n",
    "    qw_to_idx[qw] = idx\n",
    "print(qw_to_idx)\n",
    "\n",
    "#split train test\n",
    "qa_train, qa_test = train_test_split(\n",
    "    qa_pairs, test_size=0.15, random_state=42\n",
    ")\n"
   ]
  },
  {
   "cell_type": "code",
   "execution_count": null,
   "id": "c98d0249",
   "metadata": {},
   "outputs": [],
   "source": [
    "\n",
    "#pos vocab\n",
    "all_pos_tags = []\n",
    "\n",
    "for qa in qa_train:\n",
    "    doc_a = nlp(qa[1])\n",
    "    all_pos_tags.extend([token.tag_ for token in doc_a])\n",
    "\n",
    "pos_vocab = list(set(all_pos_tags))\n",
    "pos_to_idx = {pos: idx for idx, pos in enumerate(pos_vocab)}\n"
   ]
  },
  {
   "cell_type": "code",
   "execution_count": null,
   "id": "e2aaa0f1",
   "metadata": {},
   "outputs": [],
   "source": [
    "\n",
    "def extract_pos_features(answer):\n",
    "    \"\"\"\n",
    "    Create features from pos by by encoding the number of times a tag appears\n",
    "\n",
    "    Args:\n",
    "        answer: str answer input\n",
    "\n",
    "    Returns:\n",
    "        feature vector\n",
    "    \n",
    "    \"\"\"\n",
    "    doc_a = nlp(answer)\n",
    "    pos_tags = [token.tag_ for token in doc_a]\n",
    "    pos_counts = Counter(pos_tags)\n",
    "    features = np.zeros(len(pos_vocab)\n",
    "    )\n",
    "    for pos, count in pos_counts.items():\n",
    "        if pos in pos_to_idx:\n",
    "            features[pos_to_idx[pos]] = count\n",
    "    return features\n"
   ]
  },
  {
   "cell_type": "code",
   "execution_count": null,
   "id": "e5402073",
   "metadata": {},
   "outputs": [],
   "source": [
    "#create features\n",
    "X_train = np.array([extract_pos_features(qa[1]) for qa in qa_train])\n",
    "y_train = np.array([qw_to_idx[qa[2]] for qa in qa_train])\n",
    "X_test = np.array([extract_pos_features(qa[1]) for qa in qa_test])\n",
    "y_test = np.array([qw_to_idx[qa[2]] for qa in qa_test])\n"
   ]
  },
  {
   "cell_type": "code",
   "execution_count": null,
   "id": "ff147c2d",
   "metadata": {},
   "outputs": [],
   "source": [
    "#Train\n",
    "model = RandomForestClassifier(n_estimators=1000, max_depth=30, random_state=42)\n",
    "model.fit(X_train, y_train)\n"
   ]
  },
  {
   "cell_type": "code",
   "execution_count": null,
   "id": "53c04473",
   "metadata": {},
   "outputs": [],
   "source": [
    "#test\n",
    "accuracy = accuracy_score(y_test, y_pred)\n",
    "f1 = f1_score(y_test, y_pred, average=\"weighted\")\n",
    "\n",
    "accuracy2 = accuracy_score(y_test, [5 for i in range(len(y_test))])\n",
    "f12 = f1_score(y_test, [5 for i in range(len(y_test))], average=\"weighted\")\n",
    "\n",
    "plot_confusion_matrix(y_test, y_pred, ALL_QW, 'confusion_matrix.png')\n",
    "print(f\"Validation Accuracy: {accuracy:.4f}\")\n",
    "print(f\"Validation F1 Score: {f1:.4f}\")\n",
    "\n",
    "print(f\"Validation Accuracy baseline: {accuracy2:.4f}\") #baseline guess 'what' all the time\n",
    "print(f\"Validation F1 Score baseline: {f12:.4f}\")\n"
   ]
  }
 ],
 "metadata": {
  "kernelspec": {
   "display_name": "Python 3",
   "language": "python",
   "name": "python3"
  },
  "language_info": {
   "codemirror_mode": {
    "name": "ipython",
    "version": 3
   },
   "file_extension": ".py",
   "mimetype": "text/x-python",
   "name": "python",
   "nbconvert_exporter": "python",
   "pygments_lexer": "ipython3",
   "version": "3.12.2"
  }
 },
 "nbformat": 4,
 "nbformat_minor": 5
}

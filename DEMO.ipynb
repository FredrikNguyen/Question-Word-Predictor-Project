{
 "cells": [
  {
   "cell_type": "code",
   "execution_count": 1,
   "id": "bc968b42",
   "metadata": {},
   "outputs": [],
   "source": [
    "import pickle\n",
    "import torch\n",
    "from transformers import BertTokenizer, BertModel\n",
    "import torch.nn as nn"
   ]
  },
  {
   "cell_type": "code",
   "execution_count": 2,
   "id": "377e6685",
   "metadata": {},
   "outputs": [
    {
     "data": {
      "text/plain": [
       "{'how long': 0,\n",
       " 'how': 1,\n",
       " 'whom': 2,\n",
       " 'how many': 3,\n",
       " 'when': 4,\n",
       " 'whose': 5,\n",
       " 'what': 6,\n",
       " 'who': 7,\n",
       " 'where': 8,\n",
       " 'why': 9,\n",
       " 'how much': 10,\n",
       " 'which': 11}"
      ]
     },
     "execution_count": 2,
     "metadata": {},
     "output_type": "execute_result"
    }
   ],
   "source": [
    "qw_to_idx= {'how long': 0, 'how': 1, 'whom': 2, 'how many': 3, 'when': 4, 'whose': 5, 'what': 6, 'who': 7, 'where': 8, 'why': 9, 'how much': 10, 'which': 11}\n",
    "idx_to_qw = inverted_dict = {value: key for key, value in qw_to_idx.items()}\n",
    "qw_to_idx\n"
   ]
  },
  {
   "cell_type": "code",
   "execution_count": 3,
   "id": "d5391d56",
   "metadata": {},
   "outputs": [],
   "source": [
    "# Model\n",
    "class QWPModel(nn.Module):\n",
    "    def __init__(self, num_classes: int, tokenizer):\n",
    "        super(QWPModel, self).__init__()\n",
    "        self.bert = BertModel.from_pretrained(\"bert-base-uncased\")\n",
    "        self.bert.resize_token_embeddings(len(tokenizer))  # Resize for <qw>\n",
    "        self.dropout = nn.Dropout(0.1)\n",
    "        self.classifier = nn.Linear(self.bert.config.hidden_size, num_classes)\n",
    "\n",
    "    def forward(self, input_ids, attention_mask):\n",
    "        outputs = self.bert(input_ids=input_ids, attention_mask=attention_mask)\n",
    "        cls_output = outputs.pooler_output  # [CLS] token\n",
    "        cls_output = self.dropout(cls_output)\n",
    "        logits = self.classifier(cls_output)\n",
    "        return logits\n"
   ]
  },
  {
   "cell_type": "code",
   "execution_count": null,
   "id": "35ab2577",
   "metadata": {},
   "outputs": [
    {
     "name": "stderr",
     "output_type": "stream",
     "text": [
      "The new embeddings will be initialized from a multivariate normal distribution that has old embeddings' mean and covariance. As described in this article: https://nlp.stanford.edu/~johnhew/vocab-expansion.html. To disable this, use `mean_resizing=False`\n"
     ]
    },
    {
     "name": "stdout",
     "output_type": "stream",
     "text": [
      "Input: <qw> is the capital of Sweden? [SEP] Stockholm\n",
      " QW: what\n",
      "Input: <qw> are you? [SEP] fine\n",
      " QW: what\n"
     ]
    }
   ],
   "source": [
    "if __name__ == \"__main__\":\n",
    "    device = torch.device(\"cuda\" if torch.cuda.is_available() else \"cpu\")\n",
    "    tokenizer = BertTokenizer.from_pretrained(\"bert-base-uncased\")\n",
    "    tokenizer.add_tokens([\"<qw>\"])\n",
    "    model = QWPModel(num_classes=len(qw_to_idx), tokenizer=tokenizer)\n",
    "    model.load_state_dict(torch.load(\"best_qwp_model.pth\"))\n",
    "    model.to(device)\n",
    "    model.eval()\n",
    "\n",
    "    while True:\n",
    "        sample_question = input(\"Masked question: \")\n",
    "        if sample_question == \"exit\":\n",
    "            break\n",
    "        sample_answer = input(\"Answer: \")\n",
    "        input_text = f\"{sample_question} [SEP] {sample_answer}\"\n",
    "        encoding = tokenizer(\n",
    "            input_text,\n",
    "            max_length=128,\n",
    "            padding=\"max_length\",\n",
    "            truncation=True,\n",
    "            return_tensors=\"pt\")\n",
    "\n",
    "        input_ids = encoding[\"input_ids\"].squeeze().unsqueeze(0).to(device)\n",
    "        attention_mask = encoding[\"attention_mask\"].squeeze().unsqueeze(0).to(device)\n",
    "\n",
    "\n",
    "        logits = model(input_ids, attention_mask)\n",
    "        preds = torch.argmax(logits, dim=1)\n",
    "\n",
    "        print(f\"Input: {input_text}\\n QW: {idx_to_qw[int(preds[0].cpu())]}\")"
   ]
  }
 ],
 "metadata": {
  "kernelspec": {
   "display_name": "Python 3",
   "language": "python",
   "name": "python3"
  },
  "language_info": {
   "codemirror_mode": {
    "name": "ipython",
    "version": 3
   },
   "file_extension": ".py",
   "mimetype": "text/x-python",
   "name": "python",
   "nbconvert_exporter": "python",
   "pygments_lexer": "ipython3",
   "version": "3.12.2"
  }
 },
 "nbformat": 4,
 "nbformat_minor": 5
}
